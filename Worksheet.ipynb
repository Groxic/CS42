{
 "cells": [
  {
   "cell_type": "markdown",
   "metadata": {},
   "source": [
    "# Introduction to Jupyter Notebooks\n",
    "<br>This notebook serves as an interactive worksheet. By the end of it, you should be able to effectively use Jupyter Notebooks and understand why they are useful.\n",
    "\n",
    "First, figure out how to change the filename of this Notebook to include your name.\n",
    "\n",
    "Within our Notebook, we write in what are called <i>cells</i>. Cells can be of the <i>Code</i> (Python) type or [<i>Markdown</i>](https://www.markdownguide.org/getting-started/) type. For example, this cell is a Markdown type. You can also write in LaTeX in Markdown cells."
   ]
  },
  {
   "cell_type": "markdown",
   "metadata": {},
   "source": [
    "1) answer: menu-File > Rename"
   ]
  },
  {
   "cell_type": "markdown",
   "metadata": {},
   "source": [
    "Select/highlight this cell (single click) and figure out how to change its type to the Code type (check the menu).\n",
    "<i>Run</i> the code in this cell (select the cell and press ctrl+enter).\n",
    "If it doesn't work (it shouldn't), figure out how to get the code in this cell to run.\n",
    "You shouldn't have to remove any text.\n",
    "If you double-click (or highlight and press enter) on cells, you can edit them.\n",
    "print(\"You did it! Good job!\")"
   ]
  },
  {
   "cell_type": "markdown",
   "metadata": {},
   "source": [
    "2) answer: comment out the text that is not Python code. Should output: \"You did it! Good job!\""
   ]
  },
  {
   "cell_type": "markdown",
   "metadata": {},
   "source": [
    "### Shortcuts and Markdown\n",
    "You can also change cell types using shortcuts (hotkeys). This is much quicker than using menu options. Go to Help > Keyboard Shortcuts in the menu bar and find the shortcuts, Under Command Mode, for\n",
    "- adding a cell below\n",
    "- adding a cell above\n",
    "- changing a cell to Code type\n",
    "- changing a cell to Markdown type\n",
    "- deleting a cell\n",
    "\n",
    "Under Edit Mode, find the shortcut to exit Edit Mode, which returns you to Command Mode.\n",
    "\n",
    "Also, what is the shortcut to enter Edit Mode?\n",
    "\n",
    "Now, try to use these shortcuts to create a new cell below this one and change it to the Markdown type. Using your new Markdown skills (click the link from the beginning), make a list (like above) of the new shortcuts you know. Title the new cell with a header of size 3 to anything you want."
   ]
  },
  {
   "cell_type": "markdown",
   "metadata": {},
   "source": [
    "3) answer:\n",
    "### The new shortcuts I know:\n",
    "- B\n",
    "- A\n",
    "- Y\n",
    "- M\n",
    "- D, D\n",
    "- ESC"
   ]
  },
  {
   "cell_type": "markdown",
   "metadata": {},
   "source": [
    "### Notebook Coding Basics\n",
    "Now, add a new Code cell below this cell and define a new variable (in Python) to whatever you want."
   ]
  },
  {
   "cell_type": "code",
   "execution_count": 1,
   "metadata": {},
   "outputs": [],
   "source": [
    "# 4) answer (example):\n",
    "my_var = \"ok\""
   ]
  },
  {
   "cell_type": "markdown",
   "metadata": {},
   "source": [
    "Now, add a new Code cell below this cell and do something with or to your variable (just using its name). Use ```print()``` or ```display()``` to show some results."
   ]
  },
  {
   "cell_type": "code",
   "execution_count": 2,
   "metadata": {},
   "outputs": [
    {
     "name": "stdout",
     "output_type": "stream",
     "text": [
      "ok, sure\n"
     ]
    },
    {
     "data": {
      "text/plain": [
       "'ok, sure'"
      ]
     },
     "metadata": {},
     "output_type": "display_data"
    }
   ],
   "source": [
    "# 5) Answer:\n",
    "my_var = my_var + \", sure\"\n",
    "print(my_var)\n",
    "display(my_var)"
   ]
  },
  {
   "cell_type": "markdown",
   "metadata": {},
   "source": [
    "Wasn't that amazing? Any data you create in one Code cell can be used in a different Code cell!\n",
    "You can also import Python <i>libraries</i> into your Notebook as long as they belong to your current [<i>environment</i>](https://docs.anaconda.com/ae-notebooks/user-guide/adv-tasks/work-with-environments/). Import a library you have learned about and do something with it like you would in a normal Python script."
   ]
  },
  {
   "cell_type": "code",
   "execution_count": 3,
   "metadata": {},
   "outputs": [
    {
     "data": {
      "text/plain": [
       "2.0"
      ]
     },
     "metadata": {},
     "output_type": "display_data"
    }
   ],
   "source": [
    "# 6) Answer:\n",
    "import math\n",
    "display(math.sqrt(4))"
   ]
  },
  {
   "cell_type": "markdown",
   "metadata": {},
   "source": [
    "### Data Visualization- A More Challenging Problem\n",
    "One of the best and most common uses of Notebooks is to walk someone through data analysis. It allows the author to detail their thought processes and visualize their results. It is also good for record-keeping or teaching. Visualization is an integral part of working with data.\n",
    "\n",
    "In the following cell, you will find some code to import a very useful module. Do some research on this module. The best option is to find the official documentation for <i>Matplotlib</i>. This is good practice for when you are on your own and must figure out what code does or how to use different libraries. See if you can make a simple plot based off the documentation, which should have examples you can use. Have your data set come from a text file (single column is fine), which you can create either procedurally or manually. You should output (print or display) your dataset as well, so creating a variable for your data can be useful. You can access a file using Python's standard [<i>Input/Output</i>](https://docs.python.org/3/tutorial/inputoutput.html#reading-and-writing-files)."
   ]
  },
  {
   "cell_type": "code",
   "execution_count": 4,
   "metadata": {},
   "outputs": [],
   "source": [
    "import matplotlib.pyplot as plt"
   ]
  }
 ],
 "metadata": {
  "kernelspec": {
   "display_name": "Python 3",
   "language": "python",
   "name": "python3"
  },
  "language_info": {
   "codemirror_mode": {
    "name": "ipython",
    "version": 3
   },
   "file_extension": ".py",
   "mimetype": "text/x-python",
   "name": "python",
   "nbconvert_exporter": "python",
   "pygments_lexer": "ipython3",
   "version": "3.7.7"
  }
 },
 "nbformat": 4,
 "nbformat_minor": 4
}
